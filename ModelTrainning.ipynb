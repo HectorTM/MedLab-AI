{
 "cells": [
  {
   "cell_type": "code",
   "execution_count": 2,
   "metadata": {},
   "outputs": [],
   "source": [
    "import numpy as np\n",
    "import pandas as pd\n",
    "import os"
   ]
  },
  {
   "cell_type": "code",
   "execution_count": 3,
   "metadata": {},
   "outputs": [
    {
     "name": "stdout",
     "output_type": "stream",
     "text": [
      "C:\\Users\\PC_Hector\\Documents\\MedLab\\env\n"
     ]
    }
   ],
   "source": [
    "print(os.getcwd())"
   ]
  },
  {
   "cell_type": "code",
   "execution_count": 4,
   "metadata": {},
   "outputs": [],
   "source": [
    "with open(r'.\\Scripts\\mmg_data.csv', 'rb') as f: \n",
    "    df = pd.read_csv(f)"
   ]
  },
  {
   "cell_type": "code",
   "execution_count": 5,
   "metadata": {},
   "outputs": [
    {
     "data": {
      "text/html": [
       "<div>\n",
       "<style scoped>\n",
       "    .dataframe tbody tr th:only-of-type {\n",
       "        vertical-align: middle;\n",
       "    }\n",
       "\n",
       "    .dataframe tbody tr th {\n",
       "        vertical-align: top;\n",
       "    }\n",
       "\n",
       "    .dataframe thead th {\n",
       "        text-align: right;\n",
       "    }\n",
       "</style>\n",
       "<table border=\"1\" class=\"dataframe\">\n",
       "  <thead>\n",
       "    <tr style=\"text-align: right;\">\n",
       "      <th></th>\n",
       "      <th>VendorID</th>\n",
       "      <th>tpep_pickup_datetime</th>\n",
       "      <th>tpep_dropoff_datetime</th>\n",
       "      <th>passenger_count</th>\n",
       "      <th>trip_distance</th>\n",
       "      <th>pickup_longitude</th>\n",
       "      <th>pickup_latitude</th>\n",
       "      <th>RatecodeID</th>\n",
       "      <th>store_and_fwd_flag</th>\n",
       "      <th>dropoff_longitude</th>\n",
       "      <th>dropoff_latitude</th>\n",
       "      <th>payment_type</th>\n",
       "      <th>fare_amount</th>\n",
       "      <th>extra</th>\n",
       "      <th>mta_tax</th>\n",
       "      <th>tip_amount</th>\n",
       "      <th>tolls_amount</th>\n",
       "      <th>improvement_surcharge</th>\n",
       "      <th>total_amount</th>\n",
       "    </tr>\n",
       "  </thead>\n",
       "  <tbody>\n",
       "    <tr>\n",
       "      <th>5194001</th>\n",
       "      <td>2</td>\n",
       "      <td>2016-01-17 03:54:39</td>\n",
       "      <td>2016-01-17 04:01:03</td>\n",
       "      <td>5</td>\n",
       "      <td>1.37</td>\n",
       "      <td>-73.981522</td>\n",
       "      <td>40.724548</td>\n",
       "      <td>1</td>\n",
       "      <td>N</td>\n",
       "      <td>-73.978180</td>\n",
       "      <td>40.712379</td>\n",
       "      <td>1</td>\n",
       "      <td>7.0</td>\n",
       "      <td>0.5</td>\n",
       "      <td>0.5</td>\n",
       "      <td>2.08</td>\n",
       "      <td>0.00</td>\n",
       "      <td>0.3</td>\n",
       "      <td>10.38</td>\n",
       "    </tr>\n",
       "    <tr>\n",
       "      <th>4635026</th>\n",
       "      <td>2</td>\n",
       "      <td>2016-01-11 12:07:39</td>\n",
       "      <td>2016-01-11 12:33:11</td>\n",
       "      <td>1</td>\n",
       "      <td>4.83</td>\n",
       "      <td>-73.984283</td>\n",
       "      <td>40.757488</td>\n",
       "      <td>1</td>\n",
       "      <td>N</td>\n",
       "      <td>-73.940643</td>\n",
       "      <td>40.725487</td>\n",
       "      <td>2</td>\n",
       "      <td>20.0</td>\n",
       "      <td>0.0</td>\n",
       "      <td>0.5</td>\n",
       "      <td>0.00</td>\n",
       "      <td>5.54</td>\n",
       "      <td>0.3</td>\n",
       "      <td>26.34</td>\n",
       "    </tr>\n",
       "    <tr>\n",
       "      <th>3331289</th>\n",
       "      <td>2</td>\n",
       "      <td>2016-01-25 00:38:54</td>\n",
       "      <td>2016-01-25 00:53:56</td>\n",
       "      <td>1</td>\n",
       "      <td>3.55</td>\n",
       "      <td>-73.960991</td>\n",
       "      <td>40.715473</td>\n",
       "      <td>1</td>\n",
       "      <td>N</td>\n",
       "      <td>-73.941521</td>\n",
       "      <td>40.676868</td>\n",
       "      <td>2</td>\n",
       "      <td>13.0</td>\n",
       "      <td>0.5</td>\n",
       "      <td>0.5</td>\n",
       "      <td>0.00</td>\n",
       "      <td>0.00</td>\n",
       "      <td>0.3</td>\n",
       "      <td>14.30</td>\n",
       "    </tr>\n",
       "    <tr>\n",
       "      <th>5784366</th>\n",
       "      <td>1</td>\n",
       "      <td>2016-01-12 00:08:32</td>\n",
       "      <td>2016-01-12 00:15:59</td>\n",
       "      <td>1</td>\n",
       "      <td>2.00</td>\n",
       "      <td>-73.999802</td>\n",
       "      <td>40.726730</td>\n",
       "      <td>1</td>\n",
       "      <td>N</td>\n",
       "      <td>-73.992317</td>\n",
       "      <td>40.749268</td>\n",
       "      <td>2</td>\n",
       "      <td>8.0</td>\n",
       "      <td>0.5</td>\n",
       "      <td>0.5</td>\n",
       "      <td>0.00</td>\n",
       "      <td>0.00</td>\n",
       "      <td>0.3</td>\n",
       "      <td>9.30</td>\n",
       "    </tr>\n",
       "    <tr>\n",
       "      <th>6571965</th>\n",
       "      <td>2</td>\n",
       "      <td>2016-01-19 05:51:03</td>\n",
       "      <td>2016-01-19 05:54:14</td>\n",
       "      <td>5</td>\n",
       "      <td>0.91</td>\n",
       "      <td>-73.983788</td>\n",
       "      <td>40.743481</td>\n",
       "      <td>1</td>\n",
       "      <td>N</td>\n",
       "      <td>-73.984985</td>\n",
       "      <td>40.753029</td>\n",
       "      <td>2</td>\n",
       "      <td>5.0</td>\n",
       "      <td>0.5</td>\n",
       "      <td>0.5</td>\n",
       "      <td>0.00</td>\n",
       "      <td>0.00</td>\n",
       "      <td>0.3</td>\n",
       "      <td>6.30</td>\n",
       "    </tr>\n",
       "  </tbody>\n",
       "</table>\n",
       "</div>"
      ],
      "text/plain": [
       "         VendorID tpep_pickup_datetime tpep_dropoff_datetime  passenger_count  \\\n",
       "5194001         2  2016-01-17 03:54:39   2016-01-17 04:01:03                5   \n",
       "4635026         2  2016-01-11 12:07:39   2016-01-11 12:33:11                1   \n",
       "3331289         2  2016-01-25 00:38:54   2016-01-25 00:53:56                1   \n",
       "5784366         1  2016-01-12 00:08:32   2016-01-12 00:15:59                1   \n",
       "6571965         2  2016-01-19 05:51:03   2016-01-19 05:54:14                5   \n",
       "\n",
       "         trip_distance  pickup_longitude  pickup_latitude  RatecodeID  \\\n",
       "5194001           1.37        -73.981522        40.724548           1   \n",
       "4635026           4.83        -73.984283        40.757488           1   \n",
       "3331289           3.55        -73.960991        40.715473           1   \n",
       "5784366           2.00        -73.999802        40.726730           1   \n",
       "6571965           0.91        -73.983788        40.743481           1   \n",
       "\n",
       "        store_and_fwd_flag  dropoff_longitude  dropoff_latitude  payment_type  \\\n",
       "5194001                  N         -73.978180         40.712379             1   \n",
       "4635026                  N         -73.940643         40.725487             2   \n",
       "3331289                  N         -73.941521         40.676868             2   \n",
       "5784366                  N         -73.992317         40.749268             2   \n",
       "6571965                  N         -73.984985         40.753029             2   \n",
       "\n",
       "         fare_amount  extra  mta_tax  tip_amount  tolls_amount  \\\n",
       "5194001          7.0    0.5      0.5        2.08          0.00   \n",
       "4635026         20.0    0.0      0.5        0.00          5.54   \n",
       "3331289         13.0    0.5      0.5        0.00          0.00   \n",
       "5784366          8.0    0.5      0.5        0.00          0.00   \n",
       "6571965          5.0    0.5      0.5        0.00          0.00   \n",
       "\n",
       "         improvement_surcharge  total_amount  \n",
       "5194001                    0.3         10.38  \n",
       "4635026                    0.3         26.34  \n",
       "3331289                    0.3         14.30  \n",
       "5784366                    0.3          9.30  \n",
       "6571965                    0.3          6.30  "
      ]
     },
     "execution_count": 5,
     "metadata": {},
     "output_type": "execute_result"
    }
   ],
   "source": [
    "df.sample(5)"
   ]
  },
  {
   "cell_type": "code",
   "execution_count": 6,
   "metadata": {},
   "outputs": [
    {
     "name": "stdout",
     "output_type": "stream",
     "text": [
      "Dataset has 10906858 entries and 19 features\n"
     ]
    }
   ],
   "source": [
    "print(\"Dataset has {} entries and {} features\".format(*df.shape))"
   ]
  },
  {
   "cell_type": "code",
   "execution_count": 7,
   "metadata": {},
   "outputs": [],
   "source": [
    "df['flagged'] = (df['store_and_fwd_flag'] == 'Y').astype('int')"
   ]
  },
  {
   "cell_type": "code",
   "execution_count": 8,
   "metadata": {},
   "outputs": [
    {
     "data": {
      "text/html": [
       "<div>\n",
       "<style scoped>\n",
       "    .dataframe tbody tr th:only-of-type {\n",
       "        vertical-align: middle;\n",
       "    }\n",
       "\n",
       "    .dataframe tbody tr th {\n",
       "        vertical-align: top;\n",
       "    }\n",
       "\n",
       "    .dataframe thead th {\n",
       "        text-align: right;\n",
       "    }\n",
       "</style>\n",
       "<table border=\"1\" class=\"dataframe\">\n",
       "  <thead>\n",
       "    <tr style=\"text-align: right;\">\n",
       "      <th></th>\n",
       "      <th>VendorID</th>\n",
       "      <th>tpep_pickup_datetime</th>\n",
       "      <th>tpep_dropoff_datetime</th>\n",
       "      <th>passenger_count</th>\n",
       "      <th>trip_distance</th>\n",
       "      <th>pickup_longitude</th>\n",
       "      <th>pickup_latitude</th>\n",
       "      <th>RatecodeID</th>\n",
       "      <th>store_and_fwd_flag</th>\n",
       "      <th>dropoff_longitude</th>\n",
       "      <th>dropoff_latitude</th>\n",
       "      <th>payment_type</th>\n",
       "      <th>fare_amount</th>\n",
       "      <th>extra</th>\n",
       "      <th>mta_tax</th>\n",
       "      <th>tip_amount</th>\n",
       "      <th>tolls_amount</th>\n",
       "      <th>improvement_surcharge</th>\n",
       "      <th>total_amount</th>\n",
       "      <th>flagged</th>\n",
       "    </tr>\n",
       "  </thead>\n",
       "  <tbody>\n",
       "    <tr>\n",
       "      <th>8151600</th>\n",
       "      <td>1</td>\n",
       "      <td>2016-01-20 13:39:14</td>\n",
       "      <td>2016-01-20 13:44:07</td>\n",
       "      <td>1</td>\n",
       "      <td>0.7</td>\n",
       "      <td>-73.959541</td>\n",
       "      <td>40.766651</td>\n",
       "      <td>1</td>\n",
       "      <td>Y</td>\n",
       "      <td>-73.957428</td>\n",
       "      <td>40.774143</td>\n",
       "      <td>2</td>\n",
       "      <td>5.0</td>\n",
       "      <td>0.0</td>\n",
       "      <td>0.5</td>\n",
       "      <td>0.00</td>\n",
       "      <td>0.0</td>\n",
       "      <td>0.3</td>\n",
       "      <td>5.80</td>\n",
       "      <td>1</td>\n",
       "    </tr>\n",
       "    <tr>\n",
       "      <th>7345158</th>\n",
       "      <td>1</td>\n",
       "      <td>2016-01-30 08:32:31</td>\n",
       "      <td>2016-01-30 08:40:23</td>\n",
       "      <td>1</td>\n",
       "      <td>2.6</td>\n",
       "      <td>-74.011459</td>\n",
       "      <td>40.720165</td>\n",
       "      <td>1</td>\n",
       "      <td>Y</td>\n",
       "      <td>-73.995369</td>\n",
       "      <td>40.749481</td>\n",
       "      <td>1</td>\n",
       "      <td>10.5</td>\n",
       "      <td>0.0</td>\n",
       "      <td>0.5</td>\n",
       "      <td>2.25</td>\n",
       "      <td>0.0</td>\n",
       "      <td>0.3</td>\n",
       "      <td>13.55</td>\n",
       "      <td>1</td>\n",
       "    </tr>\n",
       "  </tbody>\n",
       "</table>\n",
       "</div>"
      ],
      "text/plain": [
       "         VendorID tpep_pickup_datetime tpep_dropoff_datetime  passenger_count  \\\n",
       "8151600         1  2016-01-20 13:39:14   2016-01-20 13:44:07                1   \n",
       "7345158         1  2016-01-30 08:32:31   2016-01-30 08:40:23                1   \n",
       "\n",
       "         trip_distance  pickup_longitude  pickup_latitude  RatecodeID  \\\n",
       "8151600            0.7        -73.959541        40.766651           1   \n",
       "7345158            2.6        -74.011459        40.720165           1   \n",
       "\n",
       "        store_and_fwd_flag  dropoff_longitude  dropoff_latitude  payment_type  \\\n",
       "8151600                  Y         -73.957428         40.774143             2   \n",
       "7345158                  Y         -73.995369         40.749481             1   \n",
       "\n",
       "         fare_amount  extra  mta_tax  tip_amount  tolls_amount  \\\n",
       "8151600          5.0    0.0      0.5        0.00           0.0   \n",
       "7345158         10.5    0.0      0.5        2.25           0.0   \n",
       "\n",
       "         improvement_surcharge  total_amount  flagged  \n",
       "8151600                    0.3          5.80        1  \n",
       "7345158                    0.3         13.55        1  "
      ]
     },
     "execution_count": 8,
     "metadata": {},
     "output_type": "execute_result"
    }
   ],
   "source": [
    "df[df['store_and_fwd_flag']=='Y'].sample(2)"
   ]
  },
  {
   "cell_type": "code",
   "execution_count": 9,
   "metadata": {},
   "outputs": [],
   "source": [
    "def calc_prevalence(y):\n",
    " return (sum(y)/len(y))"
   ]
  },
  {
   "cell_type": "code",
   "execution_count": 10,
   "metadata": {},
   "outputs": [
    {
     "data": {
      "text/plain": [
       "0.0057975449941678895"
      ]
     },
     "execution_count": 10,
     "metadata": {},
     "output_type": "execute_result"
    }
   ],
   "source": [
    "calc_prevalence(df['flagged'])"
   ]
  },
  {
   "cell_type": "code",
   "execution_count": 11,
   "metadata": {},
   "outputs": [],
   "source": [
    "df['pick_up_datetime'] = pd.to_datetime(df['tpep_pickup_datetime'], \n",
    " errors = 'coerce')"
   ]
  },
  {
   "cell_type": "code",
   "execution_count": 12,
   "metadata": {},
   "outputs": [
    {
     "data": {
      "text/plain": [
       "5258443    1\n",
       "Name: pick_up_datetime, dtype: int64"
      ]
     },
     "execution_count": 12,
     "metadata": {},
     "output_type": "execute_result"
    }
   ],
   "source": [
    "df['pick_up_datetime'].sample().dt.dayofweek"
   ]
  },
  {
   "cell_type": "code",
   "execution_count": 13,
   "metadata": {},
   "outputs": [],
   "source": [
    "#Monday=0, Sunday=6.\n",
    "df['day_of_week'] = df['pick_up_datetime'].dt.dayofweek"
   ]
  },
  {
   "cell_type": "code",
   "execution_count": 14,
   "metadata": {},
   "outputs": [
    {
     "data": {
      "text/html": [
       "<div>\n",
       "<style scoped>\n",
       "    .dataframe tbody tr th:only-of-type {\n",
       "        vertical-align: middle;\n",
       "    }\n",
       "\n",
       "    .dataframe tbody tr th {\n",
       "        vertical-align: top;\n",
       "    }\n",
       "\n",
       "    .dataframe thead th {\n",
       "        text-align: right;\n",
       "    }\n",
       "</style>\n",
       "<table border=\"1\" class=\"dataframe\">\n",
       "  <thead>\n",
       "    <tr style=\"text-align: right;\">\n",
       "      <th></th>\n",
       "      <th>VendorID</th>\n",
       "      <th>tpep_pickup_datetime</th>\n",
       "      <th>tpep_dropoff_datetime</th>\n",
       "      <th>passenger_count</th>\n",
       "      <th>trip_distance</th>\n",
       "      <th>pickup_longitude</th>\n",
       "      <th>pickup_latitude</th>\n",
       "      <th>RatecodeID</th>\n",
       "      <th>store_and_fwd_flag</th>\n",
       "      <th>dropoff_longitude</th>\n",
       "      <th>...</th>\n",
       "      <th>fare_amount</th>\n",
       "      <th>extra</th>\n",
       "      <th>mta_tax</th>\n",
       "      <th>tip_amount</th>\n",
       "      <th>tolls_amount</th>\n",
       "      <th>improvement_surcharge</th>\n",
       "      <th>total_amount</th>\n",
       "      <th>flagged</th>\n",
       "      <th>pick_up_datetime</th>\n",
       "      <th>day_of_week</th>\n",
       "    </tr>\n",
       "  </thead>\n",
       "  <tbody>\n",
       "    <tr>\n",
       "      <th>9759286</th>\n",
       "      <td>1</td>\n",
       "      <td>2016-01-29 06:23:26</td>\n",
       "      <td>2016-01-29 06:28:37</td>\n",
       "      <td>1</td>\n",
       "      <td>1.60</td>\n",
       "      <td>-73.949753</td>\n",
       "      <td>40.784710</td>\n",
       "      <td>1</td>\n",
       "      <td>N</td>\n",
       "      <td>-73.938515</td>\n",
       "      <td>...</td>\n",
       "      <td>6.5</td>\n",
       "      <td>0.0</td>\n",
       "      <td>0.5</td>\n",
       "      <td>1.45</td>\n",
       "      <td>0.0</td>\n",
       "      <td>0.3</td>\n",
       "      <td>8.75</td>\n",
       "      <td>0</td>\n",
       "      <td>2016-01-29 06:23:26</td>\n",
       "      <td>4</td>\n",
       "    </tr>\n",
       "    <tr>\n",
       "      <th>7283651</th>\n",
       "      <td>2</td>\n",
       "      <td>2016-01-30 01:43:22</td>\n",
       "      <td>2016-01-30 01:56:50</td>\n",
       "      <td>1</td>\n",
       "      <td>2.74</td>\n",
       "      <td>-73.990013</td>\n",
       "      <td>40.719746</td>\n",
       "      <td>1</td>\n",
       "      <td>N</td>\n",
       "      <td>-73.982895</td>\n",
       "      <td>...</td>\n",
       "      <td>11.5</td>\n",
       "      <td>0.5</td>\n",
       "      <td>0.5</td>\n",
       "      <td>2.56</td>\n",
       "      <td>0.0</td>\n",
       "      <td>0.3</td>\n",
       "      <td>15.36</td>\n",
       "      <td>0</td>\n",
       "      <td>2016-01-30 01:43:22</td>\n",
       "      <td>5</td>\n",
       "    </tr>\n",
       "    <tr>\n",
       "      <th>9385921</th>\n",
       "      <td>2</td>\n",
       "      <td>2016-01-24 19:54:41</td>\n",
       "      <td>2016-01-24 20:14:59</td>\n",
       "      <td>1</td>\n",
       "      <td>3.82</td>\n",
       "      <td>-73.976067</td>\n",
       "      <td>40.740791</td>\n",
       "      <td>1</td>\n",
       "      <td>N</td>\n",
       "      <td>-73.961517</td>\n",
       "      <td>...</td>\n",
       "      <td>17.0</td>\n",
       "      <td>0.0</td>\n",
       "      <td>0.5</td>\n",
       "      <td>3.56</td>\n",
       "      <td>0.0</td>\n",
       "      <td>0.3</td>\n",
       "      <td>21.36</td>\n",
       "      <td>0</td>\n",
       "      <td>2016-01-24 19:54:41</td>\n",
       "      <td>6</td>\n",
       "    </tr>\n",
       "  </tbody>\n",
       "</table>\n",
       "<p>3 rows × 22 columns</p>\n",
       "</div>"
      ],
      "text/plain": [
       "         VendorID tpep_pickup_datetime tpep_dropoff_datetime  passenger_count  \\\n",
       "9759286         1  2016-01-29 06:23:26   2016-01-29 06:28:37                1   \n",
       "7283651         2  2016-01-30 01:43:22   2016-01-30 01:56:50                1   \n",
       "9385921         2  2016-01-24 19:54:41   2016-01-24 20:14:59                1   \n",
       "\n",
       "         trip_distance  pickup_longitude  pickup_latitude  RatecodeID  \\\n",
       "9759286           1.60        -73.949753        40.784710           1   \n",
       "7283651           2.74        -73.990013        40.719746           1   \n",
       "9385921           3.82        -73.976067        40.740791           1   \n",
       "\n",
       "        store_and_fwd_flag  dropoff_longitude  ...  fare_amount  extra  \\\n",
       "9759286                  N         -73.938515  ...          6.5    0.0   \n",
       "7283651                  N         -73.982895  ...         11.5    0.5   \n",
       "9385921                  N         -73.961517  ...         17.0    0.0   \n",
       "\n",
       "         mta_tax  tip_amount  tolls_amount  improvement_surcharge  \\\n",
       "9759286      0.5        1.45           0.0                    0.3   \n",
       "7283651      0.5        2.56           0.0                    0.3   \n",
       "9385921      0.5        3.56           0.0                    0.3   \n",
       "\n",
       "         total_amount  flagged    pick_up_datetime  day_of_week  \n",
       "9759286          8.75        0 2016-01-29 06:23:26            4  \n",
       "7283651         15.36        0 2016-01-30 01:43:22            5  \n",
       "9385921         21.36        0 2016-01-24 19:54:41            6  \n",
       "\n",
       "[3 rows x 22 columns]"
      ]
     },
     "execution_count": 14,
     "metadata": {},
     "output_type": "execute_result"
    }
   ],
   "source": [
    "df.sample(3)"
   ]
  },
  {
   "cell_type": "code",
   "execution_count": 16,
   "metadata": {},
   "outputs": [
    {
     "data": {
      "text/html": [
       "<div>\n",
       "<style scoped>\n",
       "    .dataframe tbody tr th:only-of-type {\n",
       "        vertical-align: middle;\n",
       "    }\n",
       "\n",
       "    .dataframe tbody tr th {\n",
       "        vertical-align: top;\n",
       "    }\n",
       "\n",
       "    .dataframe thead th {\n",
       "        text-align: right;\n",
       "    }\n",
       "</style>\n",
       "<table border=\"1\" class=\"dataframe\">\n",
       "  <thead>\n",
       "    <tr style=\"text-align: right;\">\n",
       "      <th></th>\n",
       "      <th>VendorID</th>\n",
       "      <th>tpep_pickup_datetime</th>\n",
       "      <th>tpep_dropoff_datetime</th>\n",
       "      <th>passenger_count</th>\n",
       "      <th>trip_distance</th>\n",
       "      <th>pickup_longitude</th>\n",
       "      <th>pickup_latitude</th>\n",
       "      <th>RatecodeID</th>\n",
       "      <th>store_and_fwd_flag</th>\n",
       "      <th>dropoff_longitude</th>\n",
       "      <th>...</th>\n",
       "      <th>fare_amount</th>\n",
       "      <th>extra</th>\n",
       "      <th>mta_tax</th>\n",
       "      <th>tip_amount</th>\n",
       "      <th>tolls_amount</th>\n",
       "      <th>improvement_surcharge</th>\n",
       "      <th>total_amount</th>\n",
       "      <th>flagged</th>\n",
       "      <th>pick_up_datetime</th>\n",
       "      <th>day_of_week</th>\n",
       "    </tr>\n",
       "  </thead>\n",
       "  <tbody>\n",
       "    <tr>\n",
       "      <th>4395309</th>\n",
       "      <td>2</td>\n",
       "      <td>2016-01-11 08:32:33</td>\n",
       "      <td>2016-01-11 09:22:32</td>\n",
       "      <td>6</td>\n",
       "      <td>9.44</td>\n",
       "      <td>-73.870796</td>\n",
       "      <td>40.773769</td>\n",
       "      <td>1</td>\n",
       "      <td>N</td>\n",
       "      <td>-73.985970</td>\n",
       "      <td>...</td>\n",
       "      <td>35.5</td>\n",
       "      <td>0.0</td>\n",
       "      <td>0.5</td>\n",
       "      <td>8.37</td>\n",
       "      <td>5.54</td>\n",
       "      <td>0.3</td>\n",
       "      <td>50.21</td>\n",
       "      <td>0</td>\n",
       "      <td>2016-01-11 08:32:33</td>\n",
       "      <td>0</td>\n",
       "    </tr>\n",
       "    <tr>\n",
       "      <th>3638102</th>\n",
       "      <td>2</td>\n",
       "      <td>2016-01-25 12:04:55</td>\n",
       "      <td>2016-01-25 12:17:10</td>\n",
       "      <td>2</td>\n",
       "      <td>1.05</td>\n",
       "      <td>-73.987267</td>\n",
       "      <td>40.749474</td>\n",
       "      <td>1</td>\n",
       "      <td>N</td>\n",
       "      <td>-73.977814</td>\n",
       "      <td>...</td>\n",
       "      <td>8.5</td>\n",
       "      <td>0.0</td>\n",
       "      <td>0.5</td>\n",
       "      <td>1.86</td>\n",
       "      <td>0.00</td>\n",
       "      <td>0.3</td>\n",
       "      <td>11.16</td>\n",
       "      <td>0</td>\n",
       "      <td>2016-01-25 12:04:55</td>\n",
       "      <td>0</td>\n",
       "    </tr>\n",
       "    <tr>\n",
       "      <th>9565841</th>\n",
       "      <td>2</td>\n",
       "      <td>2016-01-04 21:38:17</td>\n",
       "      <td>2016-01-04 21:48:45</td>\n",
       "      <td>6</td>\n",
       "      <td>4.62</td>\n",
       "      <td>-73.977615</td>\n",
       "      <td>40.749931</td>\n",
       "      <td>1</td>\n",
       "      <td>N</td>\n",
       "      <td>-74.004395</td>\n",
       "      <td>...</td>\n",
       "      <td>15.0</td>\n",
       "      <td>0.5</td>\n",
       "      <td>0.5</td>\n",
       "      <td>3.26</td>\n",
       "      <td>0.00</td>\n",
       "      <td>0.3</td>\n",
       "      <td>19.56</td>\n",
       "      <td>0</td>\n",
       "      <td>2016-01-04 21:38:17</td>\n",
       "      <td>0</td>\n",
       "    </tr>\n",
       "  </tbody>\n",
       "</table>\n",
       "<p>3 rows × 22 columns</p>\n",
       "</div>"
      ],
      "text/plain": [
       "         VendorID tpep_pickup_datetime tpep_dropoff_datetime  passenger_count  \\\n",
       "4395309         2  2016-01-11 08:32:33   2016-01-11 09:22:32                6   \n",
       "3638102         2  2016-01-25 12:04:55   2016-01-25 12:17:10                2   \n",
       "9565841         2  2016-01-04 21:38:17   2016-01-04 21:48:45                6   \n",
       "\n",
       "         trip_distance  pickup_longitude  pickup_latitude  RatecodeID  \\\n",
       "4395309           9.44        -73.870796        40.773769           1   \n",
       "3638102           1.05        -73.987267        40.749474           1   \n",
       "9565841           4.62        -73.977615        40.749931           1   \n",
       "\n",
       "        store_and_fwd_flag  dropoff_longitude  ...  fare_amount  extra  \\\n",
       "4395309                  N         -73.985970  ...         35.5    0.0   \n",
       "3638102                  N         -73.977814  ...          8.5    0.0   \n",
       "9565841                  N         -74.004395  ...         15.0    0.5   \n",
       "\n",
       "         mta_tax  tip_amount  tolls_amount  improvement_surcharge  \\\n",
       "4395309      0.5        8.37          5.54                    0.3   \n",
       "3638102      0.5        1.86          0.00                    0.3   \n",
       "9565841      0.5        3.26          0.00                    0.3   \n",
       "\n",
       "         total_amount  flagged    pick_up_datetime  day_of_week  \n",
       "4395309         50.21        0 2016-01-11 08:32:33            0  \n",
       "3638102         11.16        0 2016-01-25 12:04:55            0  \n",
       "9565841         19.56        0 2016-01-04 21:38:17            0  \n",
       "\n",
       "[3 rows x 22 columns]"
      ]
     },
     "execution_count": 16,
     "metadata": {},
     "output_type": "execute_result"
    }
   ],
   "source": [
    "df[df['day_of_week']==0].sample(3)"
   ]
  },
  {
   "cell_type": "code",
   "execution_count": 17,
   "metadata": {},
   "outputs": [
    {
     "data": {
      "text/html": [
       "<div>\n",
       "<style scoped>\n",
       "    .dataframe tbody tr th:only-of-type {\n",
       "        vertical-align: middle;\n",
       "    }\n",
       "\n",
       "    .dataframe tbody tr th {\n",
       "        vertical-align: top;\n",
       "    }\n",
       "\n",
       "    .dataframe thead th {\n",
       "        text-align: right;\n",
       "    }\n",
       "</style>\n",
       "<table border=\"1\" class=\"dataframe\">\n",
       "  <thead>\n",
       "    <tr style=\"text-align: right;\">\n",
       "      <th></th>\n",
       "      <th>VendorID</th>\n",
       "      <th>tpep_pickup_datetime</th>\n",
       "      <th>tpep_dropoff_datetime</th>\n",
       "      <th>passenger_count</th>\n",
       "      <th>trip_distance</th>\n",
       "      <th>pickup_longitude</th>\n",
       "      <th>pickup_latitude</th>\n",
       "      <th>RatecodeID</th>\n",
       "      <th>store_and_fwd_flag</th>\n",
       "      <th>dropoff_longitude</th>\n",
       "      <th>...</th>\n",
       "      <th>fare_amount</th>\n",
       "      <th>extra</th>\n",
       "      <th>mta_tax</th>\n",
       "      <th>tip_amount</th>\n",
       "      <th>tolls_amount</th>\n",
       "      <th>improvement_surcharge</th>\n",
       "      <th>total_amount</th>\n",
       "      <th>flagged</th>\n",
       "      <th>pick_up_datetime</th>\n",
       "      <th>day_of_week</th>\n",
       "    </tr>\n",
       "  </thead>\n",
       "  <tbody>\n",
       "    <tr>\n",
       "      <th>7570406</th>\n",
       "      <td>2</td>\n",
       "      <td>2016-01-30 19:27:32</td>\n",
       "      <td>2016-01-30 19:40:17</td>\n",
       "      <td>1</td>\n",
       "      <td>1.76</td>\n",
       "      <td>-73.990211</td>\n",
       "      <td>40.728836</td>\n",
       "      <td>1</td>\n",
       "      <td>N</td>\n",
       "      <td>-74.006432</td>\n",
       "      <td>...</td>\n",
       "      <td>10.0</td>\n",
       "      <td>0.0</td>\n",
       "      <td>0.5</td>\n",
       "      <td>2.0</td>\n",
       "      <td>0.0</td>\n",
       "      <td>0.3</td>\n",
       "      <td>12.8</td>\n",
       "      <td>0</td>\n",
       "      <td>2016-01-30 19:27:32</td>\n",
       "      <td>5</td>\n",
       "    </tr>\n",
       "  </tbody>\n",
       "</table>\n",
       "<p>1 rows × 22 columns</p>\n",
       "</div>"
      ],
      "text/plain": [
       "         VendorID tpep_pickup_datetime tpep_dropoff_datetime  passenger_count  \\\n",
       "7570406         2  2016-01-30 19:27:32   2016-01-30 19:40:17                1   \n",
       "\n",
       "         trip_distance  pickup_longitude  pickup_latitude  RatecodeID  \\\n",
       "7570406           1.76        -73.990211        40.728836           1   \n",
       "\n",
       "        store_and_fwd_flag  dropoff_longitude  ...  fare_amount  extra  \\\n",
       "7570406                  N         -74.006432  ...         10.0    0.0   \n",
       "\n",
       "         mta_tax  tip_amount  tolls_amount  improvement_surcharge  \\\n",
       "7570406      0.5         2.0           0.0                    0.3   \n",
       "\n",
       "         total_amount  flagged    pick_up_datetime  day_of_week  \n",
       "7570406          12.8        0 2016-01-30 19:27:32            5  \n",
       "\n",
       "[1 rows x 22 columns]"
      ]
     },
     "execution_count": 17,
     "metadata": {},
     "output_type": "execute_result"
    }
   ],
   "source": [
    "df[df['day_of_week']>4].sample()"
   ]
  },
  {
   "cell_type": "code",
   "execution_count": 18,
   "metadata": {},
   "outputs": [],
   "source": [
    "df['weekend'] = (df['day_of_week']>4).astype('int')"
   ]
  },
  {
   "cell_type": "code",
   "execution_count": 19,
   "metadata": {},
   "outputs": [
    {
     "data": {
      "text/html": [
       "<div>\n",
       "<style scoped>\n",
       "    .dataframe tbody tr th:only-of-type {\n",
       "        vertical-align: middle;\n",
       "    }\n",
       "\n",
       "    .dataframe tbody tr th {\n",
       "        vertical-align: top;\n",
       "    }\n",
       "\n",
       "    .dataframe thead th {\n",
       "        text-align: right;\n",
       "    }\n",
       "</style>\n",
       "<table border=\"1\" class=\"dataframe\">\n",
       "  <thead>\n",
       "    <tr style=\"text-align: right;\">\n",
       "      <th></th>\n",
       "      <th>VendorID</th>\n",
       "      <th>tpep_pickup_datetime</th>\n",
       "      <th>tpep_dropoff_datetime</th>\n",
       "      <th>passenger_count</th>\n",
       "      <th>trip_distance</th>\n",
       "      <th>pickup_longitude</th>\n",
       "      <th>pickup_latitude</th>\n",
       "      <th>RatecodeID</th>\n",
       "      <th>store_and_fwd_flag</th>\n",
       "      <th>dropoff_longitude</th>\n",
       "      <th>...</th>\n",
       "      <th>extra</th>\n",
       "      <th>mta_tax</th>\n",
       "      <th>tip_amount</th>\n",
       "      <th>tolls_amount</th>\n",
       "      <th>improvement_surcharge</th>\n",
       "      <th>total_amount</th>\n",
       "      <th>flagged</th>\n",
       "      <th>pick_up_datetime</th>\n",
       "      <th>day_of_week</th>\n",
       "      <th>weekend</th>\n",
       "    </tr>\n",
       "  </thead>\n",
       "  <tbody>\n",
       "    <tr>\n",
       "      <th>577311</th>\n",
       "      <td>1</td>\n",
       "      <td>2016-01-02 18:18:41</td>\n",
       "      <td>2016-01-02 18:43:58</td>\n",
       "      <td>2</td>\n",
       "      <td>5.3</td>\n",
       "      <td>-74.016693</td>\n",
       "      <td>40.708298</td>\n",
       "      <td>1</td>\n",
       "      <td>N</td>\n",
       "      <td>-73.977226</td>\n",
       "      <td>...</td>\n",
       "      <td>0.0</td>\n",
       "      <td>0.5</td>\n",
       "      <td>3.92</td>\n",
       "      <td>0.0</td>\n",
       "      <td>0.3</td>\n",
       "      <td>25.72</td>\n",
       "      <td>0</td>\n",
       "      <td>2016-01-02 18:18:41</td>\n",
       "      <td>5</td>\n",
       "      <td>1</td>\n",
       "    </tr>\n",
       "  </tbody>\n",
       "</table>\n",
       "<p>1 rows × 23 columns</p>\n",
       "</div>"
      ],
      "text/plain": [
       "        VendorID tpep_pickup_datetime tpep_dropoff_datetime  passenger_count  \\\n",
       "577311         1  2016-01-02 18:18:41   2016-01-02 18:43:58                2   \n",
       "\n",
       "        trip_distance  pickup_longitude  pickup_latitude  RatecodeID  \\\n",
       "577311            5.3        -74.016693        40.708298           1   \n",
       "\n",
       "       store_and_fwd_flag  dropoff_longitude  ...  extra  mta_tax  tip_amount  \\\n",
       "577311                  N         -73.977226  ...    0.0      0.5        3.92   \n",
       "\n",
       "        tolls_amount  improvement_surcharge  total_amount  flagged  \\\n",
       "577311           0.0                    0.3         25.72        0   \n",
       "\n",
       "          pick_up_datetime  day_of_week  weekend  \n",
       "577311 2016-01-02 18:18:41            5        1  \n",
       "\n",
       "[1 rows x 23 columns]"
      ]
     },
     "execution_count": 19,
     "metadata": {},
     "output_type": "execute_result"
    }
   ],
   "source": [
    "df[df['weekend']==1].sample()"
   ]
  },
  {
   "cell_type": "code",
   "execution_count": 20,
   "metadata": {},
   "outputs": [
    {
     "data": {
      "text/html": [
       "<div>\n",
       "<style scoped>\n",
       "    .dataframe tbody tr th:only-of-type {\n",
       "        vertical-align: middle;\n",
       "    }\n",
       "\n",
       "    .dataframe tbody tr th {\n",
       "        vertical-align: top;\n",
       "    }\n",
       "\n",
       "    .dataframe thead th {\n",
       "        text-align: right;\n",
       "    }\n",
       "</style>\n",
       "<table border=\"1\" class=\"dataframe\">\n",
       "  <thead>\n",
       "    <tr style=\"text-align: right;\">\n",
       "      <th></th>\n",
       "      <th>VendorID</th>\n",
       "      <th>tpep_pickup_datetime</th>\n",
       "      <th>tpep_dropoff_datetime</th>\n",
       "      <th>passenger_count</th>\n",
       "      <th>trip_distance</th>\n",
       "      <th>pickup_longitude</th>\n",
       "      <th>pickup_latitude</th>\n",
       "      <th>RatecodeID</th>\n",
       "      <th>store_and_fwd_flag</th>\n",
       "      <th>dropoff_longitude</th>\n",
       "      <th>...</th>\n",
       "      <th>extra</th>\n",
       "      <th>mta_tax</th>\n",
       "      <th>tip_amount</th>\n",
       "      <th>tolls_amount</th>\n",
       "      <th>improvement_surcharge</th>\n",
       "      <th>total_amount</th>\n",
       "      <th>flagged</th>\n",
       "      <th>pick_up_datetime</th>\n",
       "      <th>day_of_week</th>\n",
       "      <th>weekend</th>\n",
       "    </tr>\n",
       "  </thead>\n",
       "  <tbody>\n",
       "    <tr>\n",
       "      <th>8084942</th>\n",
       "      <td>2</td>\n",
       "      <td>2016-01-20 09:58:38</td>\n",
       "      <td>2016-01-20 10:22:11</td>\n",
       "      <td>1</td>\n",
       "      <td>3.37</td>\n",
       "      <td>-73.990868</td>\n",
       "      <td>40.73</td>\n",
       "      <td>1</td>\n",
       "      <td>N</td>\n",
       "      <td>-73.967369</td>\n",
       "      <td>...</td>\n",
       "      <td>0.0</td>\n",
       "      <td>0.5</td>\n",
       "      <td>3.56</td>\n",
       "      <td>0.0</td>\n",
       "      <td>0.3</td>\n",
       "      <td>21.36</td>\n",
       "      <td>0</td>\n",
       "      <td>2016-01-20 09:58:38</td>\n",
       "      <td>2</td>\n",
       "      <td>0</td>\n",
       "    </tr>\n",
       "  </tbody>\n",
       "</table>\n",
       "<p>1 rows × 23 columns</p>\n",
       "</div>"
      ],
      "text/plain": [
       "         VendorID tpep_pickup_datetime tpep_dropoff_datetime  passenger_count  \\\n",
       "8084942         2  2016-01-20 09:58:38   2016-01-20 10:22:11                1   \n",
       "\n",
       "         trip_distance  pickup_longitude  pickup_latitude  RatecodeID  \\\n",
       "8084942           3.37        -73.990868            40.73           1   \n",
       "\n",
       "        store_and_fwd_flag  dropoff_longitude  ...  extra  mta_tax  \\\n",
       "8084942                  N         -73.967369  ...    0.0      0.5   \n",
       "\n",
       "         tip_amount  tolls_amount  improvement_surcharge  total_amount  \\\n",
       "8084942        3.56           0.0                    0.3         21.36   \n",
       "\n",
       "         flagged    pick_up_datetime  day_of_week  weekend  \n",
       "8084942        0 2016-01-20 09:58:38            2        0  \n",
       "\n",
       "[1 rows x 23 columns]"
      ]
     },
     "execution_count": 20,
     "metadata": {},
     "output_type": "execute_result"
    }
   ],
   "source": [
    "df.sample(1)"
   ]
  },
  {
   "cell_type": "code",
   "execution_count": null,
   "metadata": {},
   "outputs": [],
   "source": [
    "#TODO:review\n",
    "df['pick_up_datetime'].between_time('20:06:00:00')"
   ]
  },
  {
   "cell_type": "code",
   "execution_count": 21,
   "metadata": {},
   "outputs": [],
   "source": [
    "df['pickup_datetime'] = df['pick_up_datetime'].dt.strftime('%d-%m %H:%M:%S')"
   ]
  },
  {
   "cell_type": "code",
   "execution_count": 22,
   "metadata": {},
   "outputs": [
    {
     "data": {
      "text/html": [
       "<div>\n",
       "<style scoped>\n",
       "    .dataframe tbody tr th:only-of-type {\n",
       "        vertical-align: middle;\n",
       "    }\n",
       "\n",
       "    .dataframe tbody tr th {\n",
       "        vertical-align: top;\n",
       "    }\n",
       "\n",
       "    .dataframe thead th {\n",
       "        text-align: right;\n",
       "    }\n",
       "</style>\n",
       "<table border=\"1\" class=\"dataframe\">\n",
       "  <thead>\n",
       "    <tr style=\"text-align: right;\">\n",
       "      <th></th>\n",
       "      <th>VendorID</th>\n",
       "      <th>tpep_pickup_datetime</th>\n",
       "      <th>tpep_dropoff_datetime</th>\n",
       "      <th>passenger_count</th>\n",
       "      <th>trip_distance</th>\n",
       "      <th>pickup_longitude</th>\n",
       "      <th>pickup_latitude</th>\n",
       "      <th>RatecodeID</th>\n",
       "      <th>store_and_fwd_flag</th>\n",
       "      <th>dropoff_longitude</th>\n",
       "      <th>...</th>\n",
       "      <th>mta_tax</th>\n",
       "      <th>tip_amount</th>\n",
       "      <th>tolls_amount</th>\n",
       "      <th>improvement_surcharge</th>\n",
       "      <th>total_amount</th>\n",
       "      <th>flagged</th>\n",
       "      <th>pick_up_datetime</th>\n",
       "      <th>day_of_week</th>\n",
       "      <th>weekend</th>\n",
       "      <th>pickup_datetime</th>\n",
       "    </tr>\n",
       "  </thead>\n",
       "  <tbody>\n",
       "    <tr>\n",
       "      <th>0</th>\n",
       "      <td>2</td>\n",
       "      <td>2016-01-01 00:00:00</td>\n",
       "      <td>2016-01-01 00:00:00</td>\n",
       "      <td>2</td>\n",
       "      <td>1.10</td>\n",
       "      <td>-73.990372</td>\n",
       "      <td>40.734695</td>\n",
       "      <td>1</td>\n",
       "      <td>N</td>\n",
       "      <td>-73.981842</td>\n",
       "      <td>...</td>\n",
       "      <td>0.5</td>\n",
       "      <td>0.0</td>\n",
       "      <td>0.0</td>\n",
       "      <td>0.3</td>\n",
       "      <td>8.8</td>\n",
       "      <td>0</td>\n",
       "      <td>2016-01-01</td>\n",
       "      <td>4</td>\n",
       "      <td>0</td>\n",
       "      <td>01-01 00:00:00</td>\n",
       "    </tr>\n",
       "    <tr>\n",
       "      <th>1</th>\n",
       "      <td>2</td>\n",
       "      <td>2016-01-01 00:00:00</td>\n",
       "      <td>2016-01-01 00:00:00</td>\n",
       "      <td>5</td>\n",
       "      <td>4.90</td>\n",
       "      <td>-73.980782</td>\n",
       "      <td>40.729912</td>\n",
       "      <td>1</td>\n",
       "      <td>N</td>\n",
       "      <td>-73.944473</td>\n",
       "      <td>...</td>\n",
       "      <td>0.5</td>\n",
       "      <td>0.0</td>\n",
       "      <td>0.0</td>\n",
       "      <td>0.3</td>\n",
       "      <td>19.3</td>\n",
       "      <td>0</td>\n",
       "      <td>2016-01-01</td>\n",
       "      <td>4</td>\n",
       "      <td>0</td>\n",
       "      <td>01-01 00:00:00</td>\n",
       "    </tr>\n",
       "    <tr>\n",
       "      <th>2</th>\n",
       "      <td>2</td>\n",
       "      <td>2016-01-01 00:00:00</td>\n",
       "      <td>2016-01-01 00:00:00</td>\n",
       "      <td>1</td>\n",
       "      <td>10.54</td>\n",
       "      <td>-73.984550</td>\n",
       "      <td>40.679565</td>\n",
       "      <td>1</td>\n",
       "      <td>N</td>\n",
       "      <td>-73.950272</td>\n",
       "      <td>...</td>\n",
       "      <td>0.5</td>\n",
       "      <td>0.0</td>\n",
       "      <td>0.0</td>\n",
       "      <td>0.3</td>\n",
       "      <td>34.3</td>\n",
       "      <td>0</td>\n",
       "      <td>2016-01-01</td>\n",
       "      <td>4</td>\n",
       "      <td>0</td>\n",
       "      <td>01-01 00:00:00</td>\n",
       "    </tr>\n",
       "  </tbody>\n",
       "</table>\n",
       "<p>3 rows × 24 columns</p>\n",
       "</div>"
      ],
      "text/plain": [
       "   VendorID tpep_pickup_datetime tpep_dropoff_datetime  passenger_count  \\\n",
       "0         2  2016-01-01 00:00:00   2016-01-01 00:00:00                2   \n",
       "1         2  2016-01-01 00:00:00   2016-01-01 00:00:00                5   \n",
       "2         2  2016-01-01 00:00:00   2016-01-01 00:00:00                1   \n",
       "\n",
       "   trip_distance  pickup_longitude  pickup_latitude  RatecodeID  \\\n",
       "0           1.10        -73.990372        40.734695           1   \n",
       "1           4.90        -73.980782        40.729912           1   \n",
       "2          10.54        -73.984550        40.679565           1   \n",
       "\n",
       "  store_and_fwd_flag  dropoff_longitude  ...  mta_tax  tip_amount  \\\n",
       "0                  N         -73.981842  ...      0.5         0.0   \n",
       "1                  N         -73.944473  ...      0.5         0.0   \n",
       "2                  N         -73.950272  ...      0.5         0.0   \n",
       "\n",
       "   tolls_amount  improvement_surcharge  total_amount  flagged  \\\n",
       "0           0.0                    0.3           8.8        0   \n",
       "1           0.0                    0.3          19.3        0   \n",
       "2           0.0                    0.3          34.3        0   \n",
       "\n",
       "   pick_up_datetime  day_of_week  weekend  pickup_datetime  \n",
       "0        2016-01-01            4        0   01-01 00:00:00  \n",
       "1        2016-01-01            4        0   01-01 00:00:00  \n",
       "2        2016-01-01            4        0   01-01 00:00:00  \n",
       "\n",
       "[3 rows x 24 columns]"
      ]
     },
     "execution_count": 22,
     "metadata": {},
     "output_type": "execute_result"
    }
   ],
   "source": [
    "df.head(3)"
   ]
  },
  {
   "cell_type": "code",
   "execution_count": 33,
   "metadata": {},
   "outputs": [],
   "source": [
    "df_model = df[['weekend','passenger_count','trip_distance','RatecodeID','payment_type','tip_amount']]"
   ]
  },
  {
   "cell_type": "code",
   "execution_count": 34,
   "metadata": {},
   "outputs": [
    {
     "data": {
      "text/html": [
       "<div>\n",
       "<style scoped>\n",
       "    .dataframe tbody tr th:only-of-type {\n",
       "        vertical-align: middle;\n",
       "    }\n",
       "\n",
       "    .dataframe tbody tr th {\n",
       "        vertical-align: top;\n",
       "    }\n",
       "\n",
       "    .dataframe thead th {\n",
       "        text-align: right;\n",
       "    }\n",
       "</style>\n",
       "<table border=\"1\" class=\"dataframe\">\n",
       "  <thead>\n",
       "    <tr style=\"text-align: right;\">\n",
       "      <th></th>\n",
       "      <th>weekend</th>\n",
       "      <th>passenger_count</th>\n",
       "      <th>trip_distance</th>\n",
       "      <th>RatecodeID</th>\n",
       "      <th>payment_type</th>\n",
       "      <th>tip_amount</th>\n",
       "    </tr>\n",
       "  </thead>\n",
       "  <tbody>\n",
       "    <tr>\n",
       "      <th>3618033</th>\n",
       "      <td>0</td>\n",
       "      <td>1</td>\n",
       "      <td>2.98</td>\n",
       "      <td>1</td>\n",
       "      <td>1</td>\n",
       "      <td>3.16</td>\n",
       "    </tr>\n",
       "    <tr>\n",
       "      <th>5832424</th>\n",
       "      <td>0</td>\n",
       "      <td>2</td>\n",
       "      <td>1.65</td>\n",
       "      <td>1</td>\n",
       "      <td>2</td>\n",
       "      <td>0.00</td>\n",
       "    </tr>\n",
       "  </tbody>\n",
       "</table>\n",
       "</div>"
      ],
      "text/plain": [
       "         weekend  passenger_count  trip_distance  RatecodeID  payment_type  \\\n",
       "3618033        0                1           2.98           1             1   \n",
       "5832424        0                2           1.65           1             2   \n",
       "\n",
       "         tip_amount  \n",
       "3618033        3.16  \n",
       "5832424        0.00  "
      ]
     },
     "execution_count": 34,
     "metadata": {},
     "output_type": "execute_result"
    }
   ],
   "source": [
    "df_model.sample(2)"
   ]
  },
  {
   "cell_type": "code",
   "execution_count": 35,
   "metadata": {},
   "outputs": [
    {
     "name": "stderr",
     "output_type": "stream",
     "text": [
      "<ipython-input-35-e7435b53a0a0>:1: SettingWithCopyWarning: \n",
      "A value is trying to be set on a copy of a slice from a DataFrame.\n",
      "Try using .loc[row_indexer,col_indexer] = value instead\n",
      "\n",
      "See the caveats in the documentation: https://pandas.pydata.org/pandas-docs/stable/user_guide/indexing.html#returning-a-view-versus-a-copy\n",
      "  df_model['total_amount'] = df['total_amount']\n"
     ]
    }
   ],
   "source": [
    "df_model['total_amount'] = df['total_amount']"
   ]
  },
  {
   "cell_type": "code",
   "execution_count": 36,
   "metadata": {},
   "outputs": [
    {
     "data": {
      "text/html": [
       "<div>\n",
       "<style scoped>\n",
       "    .dataframe tbody tr th:only-of-type {\n",
       "        vertical-align: middle;\n",
       "    }\n",
       "\n",
       "    .dataframe tbody tr th {\n",
       "        vertical-align: top;\n",
       "    }\n",
       "\n",
       "    .dataframe thead th {\n",
       "        text-align: right;\n",
       "    }\n",
       "</style>\n",
       "<table border=\"1\" class=\"dataframe\">\n",
       "  <thead>\n",
       "    <tr style=\"text-align: right;\">\n",
       "      <th></th>\n",
       "      <th>weekend</th>\n",
       "      <th>passenger_count</th>\n",
       "      <th>trip_distance</th>\n",
       "      <th>RatecodeID</th>\n",
       "      <th>payment_type</th>\n",
       "      <th>tip_amount</th>\n",
       "      <th>total_amount</th>\n",
       "    </tr>\n",
       "  </thead>\n",
       "  <tbody>\n",
       "    <tr>\n",
       "      <th>2863095</th>\n",
       "      <td>0</td>\n",
       "      <td>2</td>\n",
       "      <td>3.32</td>\n",
       "      <td>1</td>\n",
       "      <td>1</td>\n",
       "      <td>4.26</td>\n",
       "      <td>25.56</td>\n",
       "    </tr>\n",
       "    <tr>\n",
       "      <th>4093824</th>\n",
       "      <td>0</td>\n",
       "      <td>1</td>\n",
       "      <td>6.51</td>\n",
       "      <td>1</td>\n",
       "      <td>2</td>\n",
       "      <td>0.00</td>\n",
       "      <td>22.80</td>\n",
       "    </tr>\n",
       "    <tr>\n",
       "      <th>5579170</th>\n",
       "      <td>0</td>\n",
       "      <td>1</td>\n",
       "      <td>2.40</td>\n",
       "      <td>1</td>\n",
       "      <td>1</td>\n",
       "      <td>3.56</td>\n",
       "      <td>21.36</td>\n",
       "    </tr>\n",
       "  </tbody>\n",
       "</table>\n",
       "</div>"
      ],
      "text/plain": [
       "         weekend  passenger_count  trip_distance  RatecodeID  payment_type  \\\n",
       "2863095        0                2           3.32           1             1   \n",
       "4093824        0                1           6.51           1             2   \n",
       "5579170        0                1           2.40           1             1   \n",
       "\n",
       "         tip_amount  total_amount  \n",
       "2863095        4.26         25.56  \n",
       "4093824        0.00         22.80  \n",
       "5579170        3.56         21.36  "
      ]
     },
     "execution_count": 36,
     "metadata": {},
     "output_type": "execute_result"
    }
   ],
   "source": [
    "df_model.sample(3)"
   ]
  },
  {
   "cell_type": "code",
   "execution_count": 37,
   "metadata": {},
   "outputs": [
    {
     "name": "stdout",
     "output_type": "stream",
     "text": [
      "Dataset has 10906858 entries and 7 features\n"
     ]
    }
   ],
   "source": [
    "print(\"Dataset has {} entries and {} features\".format(*df_model.shape))"
   ]
  },
  {
   "cell_type": "code",
   "execution_count": 38,
   "metadata": {},
   "outputs": [],
   "source": [
    "X, y = df_model.loc[:,:'tip_amount'].values, df_model.loc[:,'total_amount'].values"
   ]
  },
  {
   "cell_type": "code",
   "execution_count": 39,
   "metadata": {},
   "outputs": [
    {
     "data": {
      "text/plain": [
       "(array([0.  , 2.  , 3.32, 1.  , 1.  , 4.26]), 25.56)"
      ]
     },
     "execution_count": 39,
     "metadata": {},
     "output_type": "execute_result"
    }
   ],
   "source": [
    "X[2863095],y[2863095]"
   ]
  },
  {
   "cell_type": "code",
   "execution_count": 40,
   "metadata": {},
   "outputs": [],
   "source": [
    "from sklearn.model_selection import train_test_split\n",
    "X_train, X_test, y_train, y_test = train_test_split(X,y,test_size=.20, random_state=17)"
   ]
  },
  {
   "cell_type": "code",
   "execution_count": 41,
   "metadata": {},
   "outputs": [],
   "source": [
    "import xgboost as xgb\n",
    "#Read the data\n",
    "dtrain = xgb.DMatrix(X_train, label=y_train)\n",
    "dtest = xgb.DMatrix(X_test, label=y_test)"
   ]
  },
  {
   "cell_type": "code",
   "execution_count": 42,
   "metadata": {},
   "outputs": [],
   "source": [
    "from sklearn.metrics import mean_absolute_error"
   ]
  },
  {
   "cell_type": "code",
   "execution_count": 43,
   "metadata": {},
   "outputs": [
    {
     "name": "stdout",
     "output_type": "stream",
     "text": [
      "Baseline MAE is 8.31\n"
     ]
    }
   ],
   "source": [
    "# \"Learn\" the mean from the training data\n",
    "mean_train = np.mean(y_train)\n",
    "# Get predictions on the test set\n",
    "baseline_predictions = np.ones(y_test.shape) * mean_train\n",
    "# Compute MAE(Mean Absolute Error)\n",
    "mae_baseline = mean_absolute_error(y_test, baseline_predictions)\n",
    "print(\"Baseline MAE is {:.2f}\".format(mae_baseline))"
   ]
  },
  {
   "cell_type": "code",
   "execution_count": 51,
   "metadata": {},
   "outputs": [
    {
     "name": "stdout",
     "output_type": "stream",
     "text": [
      "data mean:15.641395248408081\n",
      "data mean:15.679896523839115\n"
     ]
    }
   ],
   "source": [
    "print('data mean:'+str(df_model['total_amount'].mean()))\n",
    "print('data mean:'+str(y_test.mean()))"
   ]
  },
  {
   "cell_type": "code",
   "execution_count": 74,
   "metadata": {},
   "outputs": [],
   "source": [
    "# specify parameters via map\n",
    "params = {\n",
    "    # Parameters that we are going to tune.\n",
    "    'max_depth':10,\n",
    "    'min_child_weight': 6,\n",
    "    'eta':.3,\n",
    "    'subsample': 1,\n",
    "    'colsample_bytree': 1,\n",
    "    # Other parameters\n",
    "    'objective':'reg:squarederror',\n",
    "}"
   ]
  },
  {
   "cell_type": "code",
   "execution_count": 75,
   "metadata": {},
   "outputs": [],
   "source": [
    "params['eval_metric'] = \"mae\""
   ]
  },
  {
   "cell_type": "code",
   "execution_count": 76,
   "metadata": {},
   "outputs": [
    {
     "name": "stdout",
     "output_type": "stream",
     "text": [
      "[0]\tTest-mae:10.66442\n",
      "[1]\tTest-mae:7.50358\n",
      "[2]\tTest-mae:5.29760\n",
      "[3]\tTest-mae:3.76826\n",
      "[4]\tTest-mae:2.74639\n",
      "[5]\tTest-mae:2.13071\n",
      "[6]\tTest-mae:1.79489\n",
      "[7]\tTest-mae:1.61995\n",
      "[8]\tTest-mae:1.53027\n",
      "[9]\tTest-mae:1.48393\n",
      "[10]\tTest-mae:1.46063\n",
      "[11]\tTest-mae:1.45005\n",
      "[12]\tTest-mae:1.44517\n",
      "[13]\tTest-mae:1.44343\n",
      "[14]\tTest-mae:1.44243\n",
      "[15]\tTest-mae:1.44261\n",
      "[16]\tTest-mae:1.44278\n",
      "[17]\tTest-mae:1.44304\n"
     ]
    }
   ],
   "source": [
    "num_round = 2\n",
    "num_boost_round = 20\n",
    "model = xgb.train(\n",
    "    params,\n",
    "    dtrain,\n",
    "    num_boost_round=num_boost_round,\n",
    "    evals=[(dtest, \"Test\")],\n",
    "    early_stopping_rounds=3\n",
    ")\n",
    "# make prediction\n",
    "preds = model.predict(dtest)"
   ]
  },
  {
   "cell_type": "code",
   "execution_count": 77,
   "metadata": {},
   "outputs": [
    {
     "name": "stdout",
     "output_type": "stream",
     "text": [
      "Best MAE: 1.44 in 15 rounds\n"
     ]
    }
   ],
   "source": [
    "print(\"Best MAE: {:.2f} in {} rounds\".format(model.best_score, model.best_iteration+1))"
   ]
  },
  {
   "cell_type": "code",
   "execution_count": 118,
   "metadata": {},
   "outputs": [
    {
     "name": "stdout",
     "output_type": "stream",
     "text": [
      "prediction MAE: 1.48%\n"
     ]
    }
   ],
   "source": [
    "from sklearn import metrics\n",
    "# make predictions for test data\n",
    "y_pred = model.predict(dtest)\n",
    "predictions = [round(value) for value in y_pred]\n",
    "MAE_prediction = sklearn.metrics.mean_absolute_error(y_test, predictions)\n",
    "print(\"prediction MAE: %.2f%%\" % (MAE_prediction))"
   ]
  },
  {
   "cell_type": "code",
   "execution_count": 79,
   "metadata": {},
   "outputs": [],
   "source": [
    "#uncomment to persist\n",
    "#model.save_model(\"../my_model.model\")"
   ]
  },
  {
   "cell_type": "code",
   "execution_count": 80,
   "metadata": {},
   "outputs": [],
   "source": [
    "loaded_model = xgb.Booster()\n",
    "loaded_model.load_model(\"../my_model.model\")"
   ]
  },
  {
   "cell_type": "code",
   "execution_count": 123,
   "metadata": {},
   "outputs": [
    {
     "data": {
      "text/plain": [
       "(2181372,\n",
       " <bound method DMatrix.num_col of <xgboost.core.DMatrix object at 0x00000298E6EC5D60>>)"
      ]
     },
     "execution_count": 123,
     "metadata": {},
     "output_type": "execute_result"
    }
   ],
   "source": [
    "dtest.num_row(),dtest.num_col"
   ]
  },
  {
   "cell_type": "code",
   "execution_count": 160,
   "metadata": {},
   "outputs": [],
   "source": [
    "data_test_pandas = pd.DataFrame([{\"weekend\":0, \"passenger_count\":2.0, \"trip_distance\":3.32,\"RatecodeID\":1,\"payment_type\":1,\"tip_amount\":4.26}])"
   ]
  },
  {
   "cell_type": "code",
   "execution_count": 161,
   "metadata": {},
   "outputs": [
    {
     "data": {
      "text/plain": [
       "<xgboost.core.DMatrix at 0x299843cce50>"
      ]
     },
     "execution_count": 161,
     "metadata": {},
     "output_type": "execute_result"
    }
   ],
   "source": [
    "data_test_boost = xgb.DMatrix(data_test_pandas)\n",
    "data_test_boost"
   ]
  },
  {
   "cell_type": "code",
   "execution_count": 163,
   "metadata": {
    "scrolled": true
   },
   "outputs": [
    {
     "data": {
      "text/plain": [
       "22.856295"
      ]
     },
     "execution_count": 163,
     "metadata": {},
     "output_type": "execute_result"
    }
   ],
   "source": [
    "loaded_model.predict(data_test_boost)[0]"
   ]
  },
  {
   "cell_type": "code",
   "execution_count": 138,
   "metadata": {},
   "outputs": [
    {
     "data": {
      "text/plain": [
       "(array([0.  , 2.  , 3.32, 1.  , 1.  , 4.26]), 25.56)"
      ]
     },
     "execution_count": 138,
     "metadata": {},
     "output_type": "execute_result"
    }
   ],
   "source": [
    "X[2863095],y[2863095]\n"
   ]
  },
  {
   "cell_type": "code",
   "execution_count": 147,
   "metadata": {},
   "outputs": [],
   "source": [
    "import requests"
   ]
  },
  {
   "cell_type": "code",
   "execution_count": 175,
   "metadata": {},
   "outputs": [
    {
     "data": {
      "text/plain": [
       "'number 12.35'"
      ]
     },
     "execution_count": 175,
     "metadata": {},
     "output_type": "execute_result"
    }
   ],
   "source": [
    "requests.get(\"http://127.0.0.1:8080/test\").text"
   ]
  },
  {
   "cell_type": "code",
   "execution_count": 183,
   "metadata": {},
   "outputs": [
    {
     "data": {
      "text/plain": [
       "'{\"result\":22.856294631958008,\"success\":true}\\n'"
      ]
     },
     "execution_count": 183,
     "metadata": {},
     "output_type": "execute_result"
    }
   ],
   "source": [
    "requests.post('http://127.0.0.1:8080/amount-prediction', json={\"weekend\":0, \"passenger_count\":2.0, \"trip_distance\":3.32,\"RatecodeID\":1, \"payment_type\":1,\"tip_amount\":4.26,\"test\":\"29\"}).text"
   ]
  },
  {
   "cell_type": "code",
   "execution_count": 173,
   "metadata": {},
   "outputs": [
    {
     "data": {
      "text/plain": [
       "'{\"mean\":1.750663115812088,\"rows\":10906858}\\n'"
      ]
     },
     "execution_count": 173,
     "metadata": {},
     "output_type": "execute_result"
    }
   ],
   "source": [
    "requests.get(\"http://127.0.0.1:8080/mean-tips\").text"
   ]
  }
 ],
 "metadata": {
  "kernelspec": {
   "display_name": "Python 3",
   "language": "python",
   "name": "python3"
  },
  "language_info": {
   "codemirror_mode": {
    "name": "ipython",
    "version": 3
   },
   "file_extension": ".py",
   "mimetype": "text/x-python",
   "name": "python",
   "nbconvert_exporter": "python",
   "pygments_lexer": "ipython3",
   "version": "3.8.3"
  }
 },
 "nbformat": 4,
 "nbformat_minor": 4
}
